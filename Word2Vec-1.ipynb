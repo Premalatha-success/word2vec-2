{
  "nbformat": 4,
  "nbformat_minor": 0,
  "metadata": {
    "kernelspec": {
      "display_name": "Python 3",
      "language": "python",
      "name": "python3"
    },
    "language_info": {
      "codemirror_mode": {
        "name": "ipython",
        "version": 3
      },
      "file_extension": ".py",
      "mimetype": "text/x-python",
      "name": "python",
      "nbconvert_exporter": "python",
      "pygments_lexer": "ipython3",
      "version": "3.6.5"
    },
    "colab": {
      "name": "Word2Vec.ipynb",
      "provenance": [],
      "collapsed_sections": []
    }
  },
  "cells": [
    {
      "cell_type": "markdown",
      "metadata": {
        "colab_type": "text",
        "id": "JK0ZRJoxhrFe"
      },
      "source": [
        "As we are using google colab, we need to mount the google drive to load the data file"
      ]
    },
    {
      "cell_type": "code",
      "metadata": {
        "id": "dv6RCAcGLd4w",
        "colab_type": "code",
        "outputId": "df3bf487-f08e-44f8-8f57-2c8224394e0f",
        "colab": {
          "base_uri": "https://localhost:8080/",
          "height": 124
        }
      },
      "source": [
        "from google.colab import drive\n",
        "drive.mount('/content/drive/')"
      ],
      "execution_count": 0,
      "outputs": [
        {
          "output_type": "stream",
          "text": [
            "Go to this URL in a browser: https://accounts.google.com/o/oauth2/auth?client_id=947318989803-6bn6qk8qdgf4n4g3pfee6491hc0brc4i.apps.googleusercontent.com&redirect_uri=urn%3aietf%3awg%3aoauth%3a2.0%3aoob&response_type=code&scope=email%20https%3a%2f%2fwww.googleapis.com%2fauth%2fdocs.test%20https%3a%2f%2fwww.googleapis.com%2fauth%2fdrive%20https%3a%2f%2fwww.googleapis.com%2fauth%2fdrive.photos.readonly%20https%3a%2f%2fwww.googleapis.com%2fauth%2fpeopleapi.readonly\n",
            "\n",
            "Enter your authorization code:\n",
            "··········\n",
            "Mounted at /content/drive/\n"
          ],
          "name": "stdout"
        }
      ]
    },
    {
      "cell_type": "code",
      "metadata": {
        "id": "WYmUgblGKOYh",
        "colab_type": "code",
        "outputId": "1abe5f03-3a78-4dc0-d541-a6be249ee92f",
        "colab": {
          "base_uri": "https://localhost:8080/",
          "height": 72
        }
      },
      "source": [
        "from gensim.test.utils import datapath, get_tmpfile\n",
        "from gensim.models import KeyedVectors # Gensim contains word2vec models and processing tools\n",
        "\n",
        "path = '/content/drive/My Drive/'\n",
        "\n",
        "glove_file = datapath(path + 'glove.6B.50d.txt') # This is a GloVe model\n",
        "tmp_file = get_tmpfile(path + 'word2vec.glove.6B.50d.txt')\n",
        "\n",
        "from gensim.scripts.glove2word2vec import glove2word2vec\n",
        "glove2word2vec(glove_file, tmp_file)  # Converting the GloVe file into a Word2Vec file\n",
        "model = KeyedVectors.load_word2vec_format(tmp_file)"
      ],
      "execution_count": 0,
      "outputs": [
        {
          "output_type": "stream",
          "text": [
            "/usr/local/lib/python3.6/dist-packages/smart_open/smart_open_lib.py:402: UserWarning: This function is deprecated, use smart_open.open instead. See the migration notes for details: https://github.com/RaRe-Technologies/smart_open/blob/master/README.rst#migrating-to-the-new-open-function\n",
            "  'See the migration notes for details: %s' % _MIGRATION_NOTES_URL\n"
          ],
          "name": "stderr"
        }
      ]
    },
    {
      "cell_type": "code",
      "metadata": {
        "id": "Z8RFe0kFKOYp",
        "colab_type": "code",
        "outputId": "0cbb9d0f-ada1-4469-8479-e4610cd4cab6",
        "colab": {
          "base_uri": "https://localhost:8080/",
          "height": 174
        }
      },
      "source": [
        "# Check out what the embedding looks like\n",
        "\n",
        "wordEmbed = model['cat']\n",
        "print(wordEmbed.shape)\n",
        "print(wordEmbed)"
      ],
      "execution_count": 0,
      "outputs": [
        {
          "output_type": "stream",
          "text": [
            "(50,)\n",
            "[ 0.45281  -0.50108  -0.53714  -0.015697  0.22191   0.54602  -0.67301\n",
            " -0.6891    0.63493  -0.19726   0.33685   0.7735    0.90094   0.38488\n",
            "  0.38367   0.2657   -0.08057   0.61089  -1.2894   -0.22313  -0.61578\n",
            "  0.21697   0.35614   0.44499   0.60885  -1.1633   -1.1579    0.36118\n",
            "  0.10466  -0.78325   1.4352    0.18629  -0.26112   0.83275  -0.23123\n",
            "  0.32481   0.14485  -0.44552   0.33497  -0.95946  -0.097479  0.48138\n",
            " -0.43352   0.69455   0.91043  -0.28173   0.41637  -1.2609    0.71278\n",
            "  0.23782 ]\n"
          ],
          "name": "stdout"
        }
      ]
    },
    {
      "cell_type": "code",
      "metadata": {
        "id": "cRTAWnL4KOYu",
        "colab_type": "code",
        "outputId": "ceeefe5e-7762-4689-b18e-d186c4967de0",
        "colab": {
          "base_uri": "https://localhost:8080/",
          "height": 34
        }
      },
      "source": [
        "# What happens if a word it out of the dictionary?\n",
        "\n",
        "word = 'Amit'\n",
        "if word in model:\n",
        "    print('{0} is in the model'.format(word))\n",
        "else:\n",
        "    print('{0} is NOT in the model'.format(word))"
      ],
      "execution_count": 0,
      "outputs": [
        {
          "output_type": "stream",
          "text": [
            "Amit is NOT in the model\n"
          ],
          "name": "stdout"
        }
      ]
    },
    {
      "cell_type": "code",
      "metadata": {
        "id": "PHSX1m1zKOYx",
        "colab_type": "code",
        "outputId": "6ee5d9f9-7dc3-42ee-d3f5-d3be7534eb68",
        "colab": {
          "base_uri": "https://localhost:8080/",
          "height": 89
        }
      },
      "source": [
        "# Most like\n",
        "\n",
        "print(model.most_similar(positive=['boy']))"
      ],
      "execution_count": 0,
      "outputs": [
        {
          "output_type": "stream",
          "text": [
            "[('girl', 0.9327198266983032), ('woman', 0.8596120476722717), ('man', 0.8564431667327881), ('kid', 0.8192578554153442), ('mother', 0.8179757595062256), ('teenage', 0.8029857277870178), ('baby', 0.8001461029052734), ('dad', 0.785053014755249), ('her', 0.783680260181427), ('old', 0.7815378308296204)]\n"
          ],
          "name": "stdout"
        },
        {
          "output_type": "stream",
          "text": [
            "/usr/local/lib/python3.6/dist-packages/gensim/matutils.py:737: FutureWarning: Conversion of the second argument of issubdtype from `int` to `np.signedinteger` is deprecated. In future, it will be treated as `np.int64 == np.dtype(int).type`.\n",
            "  if np.issubdtype(vec.dtype, np.int):\n"
          ],
          "name": "stderr"
        }
      ]
    },
    {
      "cell_type": "code",
      "metadata": {
        "id": "TjLiaVWGKOY0",
        "colab_type": "code",
        "outputId": "b1900db7-bd6a-4588-d401-d2cc537f9062",
        "colab": {
          "base_uri": "https://localhost:8080/",
          "height": 89
        }
      },
      "source": [
        "# Most like X but unlike Y\n",
        "\n",
        "print(model.most_similar(positive=['boy', 'girl'], negative=['man']))"
      ],
      "execution_count": 0,
      "outputs": [
        {
          "output_type": "stream",
          "text": [
            "[('toddler', 0.7926537394523621), ('teenage', 0.779137134552002), ('girls', 0.7590369582176208), ('12-year-old', 0.7517068982124329), ('girlfriend', 0.7495955228805542), ('baby', 0.7431076765060425), ('teen', 0.7420293688774109), ('9-year', 0.7407599091529846), ('14-year-old', 0.7330296039581299), ('orphan', 0.726045548915863)]\n"
          ],
          "name": "stdout"
        },
        {
          "output_type": "stream",
          "text": [
            "/usr/local/lib/python3.6/dist-packages/gensim/matutils.py:737: FutureWarning: Conversion of the second argument of issubdtype from `int` to `np.signedinteger` is deprecated. In future, it will be treated as `np.int64 == np.dtype(int).type`.\n",
            "  if np.issubdtype(vec.dtype, np.int):\n"
          ],
          "name": "stderr"
        }
      ]
    },
    {
      "cell_type": "code",
      "metadata": {
        "id": "Ha4k-My1KOY3",
        "colab_type": "code",
        "outputId": "4bf412ec-145c-4700-ec09-7ff96f0b224d",
        "colab": {
          "base_uri": "https://localhost:8080/",
          "height": 124
        }
      },
      "source": [
        "print(model.doesnt_match(\"boy girl car man\".split()))"
      ],
      "execution_count": 0,
      "outputs": [
        {
          "output_type": "stream",
          "text": [
            "car\n"
          ],
          "name": "stdout"
        },
        {
          "output_type": "stream",
          "text": [
            "/usr/local/lib/python3.6/dist-packages/gensim/models/keyedvectors.py:895: FutureWarning: arrays to stack must be passed as a \"sequence\" type such as list or tuple. Support for non-sequence iterables such as generators is deprecated as of NumPy 1.16 and will raise an error in the future.\n",
            "  vectors = vstack(self.word_vec(word, use_norm=True) for word in used_words).astype(REAL)\n",
            "/usr/local/lib/python3.6/dist-packages/gensim/matutils.py:737: FutureWarning: Conversion of the second argument of issubdtype from `int` to `np.signedinteger` is deprecated. In future, it will be treated as `np.int64 == np.dtype(int).type`.\n",
            "  if np.issubdtype(vec.dtype, np.int):\n"
          ],
          "name": "stderr"
        }
      ]
    },
    {
      "cell_type": "code",
      "metadata": {
        "id": "8MIymD5cKOY6",
        "colab_type": "code",
        "outputId": "5e75c475-2324-4350-cf7c-d652bb6a8d0a",
        "colab": {
          "base_uri": "https://localhost:8080/",
          "height": 89
        }
      },
      "source": [
        "print(model.similarity('shark', 'man'))"
      ],
      "execution_count": 0,
      "outputs": [
        {
          "output_type": "stream",
          "text": [
            "0.40119055\n"
          ],
          "name": "stdout"
        },
        {
          "output_type": "stream",
          "text": [
            "/usr/local/lib/python3.6/dist-packages/gensim/matutils.py:737: FutureWarning: Conversion of the second argument of issubdtype from `int` to `np.signedinteger` is deprecated. In future, it will be treated as `np.int64 == np.dtype(int).type`.\n",
            "  if np.issubdtype(vec.dtype, np.int):\n"
          ],
          "name": "stderr"
        }
      ]
    },
    {
      "cell_type": "code",
      "metadata": {
        "id": "3dhAaYyWKOY-",
        "colab_type": "code",
        "outputId": "0b1c7bd2-b4af-45f0-88a7-b3aa3b3dbedc",
        "colab": {
          "base_uri": "https://localhost:8080/",
          "height": 247
        }
      },
      "source": [
        "model.similar_by_vector(model['king'] - model['queen'] + model['woman'])"
      ],
      "execution_count": 0,
      "outputs": [
        {
          "output_type": "stream",
          "text": [
            "/usr/local/lib/python3.6/dist-packages/gensim/matutils.py:737: FutureWarning: Conversion of the second argument of issubdtype from `int` to `np.signedinteger` is deprecated. In future, it will be treated as `np.int64 == np.dtype(int).type`.\n",
            "  if np.issubdtype(vec.dtype, np.int):\n"
          ],
          "name": "stderr"
        },
        {
          "output_type": "execute_result",
          "data": {
            "text/plain": [
              "[('man', 0.8706066608428955),\n",
              " ('father', 0.8266595005989075),\n",
              " ('who', 0.8227341175079346),\n",
              " ('woman', 0.8118484616279602),\n",
              " ('death', 0.7955309748649597),\n",
              " ('another', 0.7886117696762085),\n",
              " ('whose', 0.7844259142875671),\n",
              " ('old', 0.7815860509872437),\n",
              " ('victim', 0.7748767733573914),\n",
              " ('him', 0.7725713849067688)]"
            ]
          },
          "metadata": {
            "tags": []
          },
          "execution_count": 16
        }
      ]
    },
    {
      "cell_type": "code",
      "metadata": {
        "id": "xB6_iD7VKOZA",
        "colab_type": "code",
        "outputId": "ac13773c-7441-498f-d0db-bffae3159d7d",
        "colab": {
          "base_uri": "https://localhost:8080/",
          "height": 89
        }
      },
      "source": [
        "print(model.most_similar(positive=['king', 'woman'], negative=['queen']))"
      ],
      "execution_count": 0,
      "outputs": [
        {
          "output_type": "stream",
          "text": [
            "[('man', 0.857354462146759), ('who', 0.8164044618606567), ('father', 0.8128569722175598), ('death', 0.7859841585159302), ('another', 0.7801331281661987), ('whose', 0.7746530175209045), ('old', 0.7679885029792786), ('victim', 0.7661791443824768), ('him', 0.7624204158782959), ('thought', 0.7570509910583496)]\n"
          ],
          "name": "stdout"
        },
        {
          "output_type": "stream",
          "text": [
            "/usr/local/lib/python3.6/dist-packages/gensim/matutils.py:737: FutureWarning: Conversion of the second argument of issubdtype from `int` to `np.signedinteger` is deprecated. In future, it will be treated as `np.int64 == np.dtype(int).type`.\n",
            "  if np.issubdtype(vec.dtype, np.int):\n"
          ],
          "name": "stderr"
        }
      ]
    },
    {
      "cell_type": "code",
      "metadata": {
        "id": "BSsElid_KOZE",
        "colab_type": "code",
        "outputId": "8e7569ac-6462-475c-e1e3-83c18495fe9d",
        "colab": {
          "base_uri": "https://localhost:8080/",
          "height": 89
        }
      },
      "source": [
        "print(model.most_similar(positive=['king', 'woman'], negative=['queen']))"
      ],
      "execution_count": 0,
      "outputs": [
        {
          "output_type": "stream",
          "text": [
            "[('man', 0.857354462146759), ('who', 0.8164044618606567), ('father', 0.8128569722175598), ('death', 0.7859841585159302), ('another', 0.7801331281661987), ('whose', 0.7746530175209045), ('old', 0.7679885029792786), ('victim', 0.7661791443824768), ('him', 0.7624204158782959), ('thought', 0.7570509910583496)]\n"
          ],
          "name": "stdout"
        },
        {
          "output_type": "stream",
          "text": [
            "/usr/local/lib/python3.6/dist-packages/gensim/matutils.py:737: FutureWarning: Conversion of the second argument of issubdtype from `int` to `np.signedinteger` is deprecated. In future, it will be treated as `np.int64 == np.dtype(int).type`.\n",
            "  if np.issubdtype(vec.dtype, np.int):\n"
          ],
          "name": "stderr"
        }
      ]
    },
    {
      "cell_type": "code",
      "metadata": {
        "id": "7av-SglQKOZJ",
        "colab_type": "code",
        "outputId": "0eaa201b-8034-47c0-c109-a21ac0c3cc1e",
        "colab": {
          "base_uri": "https://localhost:8080/",
          "height": 89
        }
      },
      "source": [
        "print(model.most_similar(positive=['cricket']))"
      ],
      "execution_count": 0,
      "outputs": [
        {
          "output_type": "stream",
          "text": [
            "[('indies', 0.8089947700500488), ('twenty20', 0.8088222146034241), ('rugby', 0.8044811487197876), ('cricketers', 0.7978312969207764), ('england', 0.7800653576850891), ('wc2003', 0.7499520778656006), ('wc2003-wis', 0.7357774376869202), ('bowling', 0.7342497706413269), ('mcc', 0.7253372073173523), ('zealand', 0.7152737379074097)]\n"
          ],
          "name": "stdout"
        },
        {
          "output_type": "stream",
          "text": [
            "/usr/local/lib/python3.6/dist-packages/gensim/matutils.py:737: FutureWarning: Conversion of the second argument of issubdtype from `int` to `np.signedinteger` is deprecated. In future, it will be treated as `np.int64 == np.dtype(int).type`.\n",
            "  if np.issubdtype(vec.dtype, np.int):\n"
          ],
          "name": "stderr"
        }
      ]
    },
    {
      "cell_type": "markdown",
      "metadata": {
        "id": "jeT6CwaJVmtm",
        "colab_type": "text"
      },
      "source": [
        ""
      ]
    },
    {
      "cell_type": "code",
      "metadata": {
        "id": "ylb5F_ZRKOZL",
        "colab_type": "code",
        "colab": {}
      },
      "source": [
        ""
      ],
      "execution_count": 0,
      "outputs": []
    }
  ]
}